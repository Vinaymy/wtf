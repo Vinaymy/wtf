{
  "nbformat": 4,
  "nbformat_minor": 0,
  "metadata": {
    "colab": {
      "name": "image_cropper.ipynb",
      "version": "0.3.2",
      "provenance": [],
      "collapsed_sections": [],
      "toc_visible": true
    },
    "kernelspec": {
      "name": "python3",
      "display_name": "Python 3"
    }
  },
  "cells": [
    {
      "metadata": {
        "id": "AxXPGe46EX18",
        "colab_type": "text"
      },
      "cell_type": "markdown",
      "source": [
        "This file contains a utility for chopping up an image of variable size into tiles. Choose the tile\n",
        "dimensions by trial and error so that they nicely contain a handwritten character. \n",
        "\n",
        "In order to get started, upload an image of a journal entry to the colab workspace root directory. Then running the utility will create chopped images in a subdirectory called \"cropped.\" There is a second utility to zip the cropped directory and copy it to your google drive. For this you'll need to authenticate your session through a guid."
      ]
    },
    {
      "metadata": {
        "id": "dRe6j-T8KHWd",
        "colab_type": "text"
      },
      "cell_type": "markdown",
      "source": [
        "First the necessary imports"
      ]
    },
    {
      "metadata": {
        "id": "qQ0SzD3KKK7L",
        "colab_type": "code",
        "colab": {}
      },
      "cell_type": "code",
      "source": [
        "import os\n",
        "from PIL import Image\n",
        "from google.colab import files\n",
        "from google.colab import auth\n",
        "from googleapiclient.http import MediaFileUpload\n",
        "from googleapiclient.discovery import build"
      ],
      "execution_count": 0,
      "outputs": []
    },
    {
      "metadata": {
        "id": "MOIpBR9mKPbj",
        "colab_type": "text"
      },
      "cell_type": "markdown",
      "source": [
        "Utility to crop an image"
      ]
    },
    {
      "metadata": {
        "id": "4q7Qt-U7KOiF",
        "colab_type": "code",
        "colab": {}
      },
      "cell_type": "code",
      "source": [
        "def crop(path, input, height, width):\n",
        "    \"\"\" \n",
        "    Crops input image into height X width tiles  \n",
        "    \n",
        "    Parameters: \n",
        "    path (string): Path to the directory where you want the output tiles to be \n",
        "    created.\n",
        "    input (string): Name of image file to be chopped\n",
        "    height (int): height of output tile\n",
        "    width (int): width of output tile\n",
        "    \"\"\"\n",
        "    im = Image.open(input)\n",
        "    imgwidth, imgheight = im.size\n",
        "    \n",
        "    k = 1\n",
        "    for i in range(0,imgheight,height):\n",
        "        for j in range(0,imgwidth,width):\n",
        "            box = (j, i, j+width, i+height)\n",
        "            a = im.crop(box)\n",
        "            a.save(os.path.join(path,\"IMG-%s.png\" % k))\n",
        "            k += 1\n",
        "    print(\n",
        "        \"Successfully chopped {} into {} {}X{} tiles in {} directory\".format(\n",
        "              input, k-1, height, width, path)\n",
        "    )"
      ],
      "execution_count": 0,
      "outputs": []
    },
    {
      "metadata": {
        "id": "O3LDDJXvF6II",
        "colab_type": "text"
      },
      "cell_type": "markdown",
      "source": [
        "Assuming you've uploaded an image file to colab (E.g. \"wtf_dec01_2016.png\"), let's create a directory called \"cropped\" to collect the tiles after chopping."
      ]
    },
    {
      "metadata": {
        "id": "KeRH-8gCJ8Gn",
        "colab_type": "code",
        "colab": {}
      },
      "cell_type": "code",
      "source": [
        "!mkdir cropped"
      ],
      "execution_count": 0,
      "outputs": []
    },
    {
      "metadata": {
        "id": "1ZTQYKSAHuOH",
        "colab_type": "text"
      },
      "cell_type": "markdown",
      "source": [
        "Next we invoke the utility to perform the cropping"
      ]
    },
    {
      "metadata": {
        "id": "vIdHaRB6H0q4",
        "colab_type": "code",
        "colab": {}
      },
      "cell_type": "code",
      "source": [
        "crop(\"cropped/\", \"wtf_dec01_2016.png\", 20, 15)"
      ],
      "execution_count": 0,
      "outputs": []
    },
    {
      "metadata": {
        "id": "IGVYf19HMPNx",
        "colab_type": "text"
      },
      "cell_type": "markdown",
      "source": [
        "Next, let's zip the output directory (E.g. \"cropped\") and copy to your google drive. It will prompt you to authenticate by walking you through your google account and generating a guid that you'll need to paste below to authenticate, so that it can verify your identity to save the file to your google drive."
      ]
    },
    {
      "metadata": {
        "id": "kU4W-bIIMid-",
        "colab_type": "code",
        "colab": {}
      },
      "cell_type": "code",
      "source": [
        "#@title save data to drive\n",
        "filename = \"wtf_dec01_2016\" #@param {type:\"string\"}\n",
        "folders_or_files_to_save = \"cropped\" #@param {type:\"string\"}\n",
        "def save_to_google_drive(name, path):\n",
        "    file_metadata = {\n",
        "    'name': name,\n",
        "    'mimeType': 'application/octet-stream'\n",
        "    }\n",
        "\n",
        "    media = MediaFileUpload(\n",
        "          path \n",
        "        , mimetype='application/octet-stream'\n",
        "        , resumable=True\n",
        "    )\n",
        "\n",
        "    created = drive_service.files().create(\n",
        "          body=file_metadata\n",
        "        , media_body=media\n",
        "        , fields='id'\n",
        "    ).execute()\n",
        "\n",
        "    print('File ID: {}'.format(created.get('id')))\n",
        "\n",
        "    return created\n",
        "\n",
        "extension_zip = \".zip\"\n",
        "zip_file = filename + extension_zip\n",
        "!zip -r $zip_file {folders_or_files_to_save} \n",
        "# FOLDERS TO SAVE INTO ZIP FILE\n",
        "\n",
        "auth.authenticate_user()\n",
        "drive_service = build('drive', 'v3')\n",
        "\n",
        "destination_name = zip_file\n",
        "path_to_file = zip_file\n",
        "save_to_google_drive(destination_name, path_to_file)"
      ],
      "execution_count": 0,
      "outputs": []
    },
    {
      "metadata": {
        "id": "K6M8gnmmNjeu",
        "colab_type": "text"
      },
      "cell_type": "markdown",
      "source": [
        "The zip file is not on your google drive for you to uncompress and peruse."
      ]
    }
  ]
}