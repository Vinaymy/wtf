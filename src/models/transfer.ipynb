{
  "nbformat": 4,
  "nbformat_minor": 0,
  "metadata": {
    "colab": {
      "name": "transfer.ipynb",
      "version": "0.3.2",
      "provenance": [],
      "collapsed_sections": [],
      "toc_visible": true
    },
    "kernelspec": {
      "name": "python3",
      "display_name": "Python 3"
    }
  },
  "cells": [
    {
      "metadata": {
        "id": "vCTDA_4Ymmab",
        "colab_type": "code",
        "colab": {
          "base_uri": "https://localhost:8080/",
          "height": 34
        },
        "outputId": "9b7ad306-8928-4638-b4e0-08c382887f1b"
      },
      "cell_type": "code",
      "source": [
        "import os\n",
        "import numpy as np\n",
        "import keras\n",
        "from keras.models import model_from_json\n",
        "from skimage.transform import resize\n",
        "from skimage.io import imread\n",
        "from keras.utils.np_utils import to_categorical\n",
        "from random import seed, sample\n",
        "from sklearn.model_selection import train_test_split\n",
        "from keras.models import Sequential\n",
        "from keras.layers import Conv2D, MaxPooling2D, Dropout, Flatten, Dense"
      ],
      "execution_count": 1,
      "outputs": [
        {
          "output_type": "stream",
          "text": [
            "Using TensorFlow backend.\n"
          ],
          "name": "stderr"
        }
      ]
    },
    {
      "metadata": {
        "id": "x6TGlArKm8Ig",
        "colab_type": "code",
        "colab": {
          "base_uri": "https://localhost:8080/",
          "height": 232
        },
        "outputId": "6cb6ae3e-18bb-47c0-b08c-796e2021add6"
      },
      "cell_type": "code",
      "source": [
        "json_file = open('model_5_5.json', 'r')\n",
        "loaded_model_json = json_file.read()\n",
        "json_file.close()\n",
        "loaded_model = model_from_json(loaded_model_json)\n",
        "# load weights into new model\n",
        "loaded_model.load_weights(\"model_5_5.h5\")\n",
        "print(\"Loaded model from disk\")"
      ],
      "execution_count": 2,
      "outputs": [
        {
          "output_type": "error",
          "ename": "FileNotFoundError",
          "evalue": "ignored",
          "traceback": [
            "\u001b[0;31m---------------------------------------------------------------------------\u001b[0m",
            "\u001b[0;31mFileNotFoundError\u001b[0m                         Traceback (most recent call last)",
            "\u001b[0;32m<ipython-input-2-d085d2b97c87>\u001b[0m in \u001b[0;36m<module>\u001b[0;34m()\u001b[0m\n\u001b[0;32m----> 1\u001b[0;31m \u001b[0mjson_file\u001b[0m \u001b[0;34m=\u001b[0m \u001b[0mopen\u001b[0m\u001b[0;34m(\u001b[0m\u001b[0;34m'model_5_5.json'\u001b[0m\u001b[0;34m,\u001b[0m \u001b[0;34m'r'\u001b[0m\u001b[0;34m)\u001b[0m\u001b[0;34m\u001b[0m\u001b[0m\n\u001b[0m\u001b[1;32m      2\u001b[0m \u001b[0mloaded_model_json\u001b[0m \u001b[0;34m=\u001b[0m \u001b[0mjson_file\u001b[0m\u001b[0;34m.\u001b[0m\u001b[0mread\u001b[0m\u001b[0;34m(\u001b[0m\u001b[0;34m)\u001b[0m\u001b[0;34m\u001b[0m\u001b[0m\n\u001b[1;32m      3\u001b[0m \u001b[0mjson_file\u001b[0m\u001b[0;34m.\u001b[0m\u001b[0mclose\u001b[0m\u001b[0;34m(\u001b[0m\u001b[0;34m)\u001b[0m\u001b[0;34m\u001b[0m\u001b[0m\n\u001b[1;32m      4\u001b[0m \u001b[0mloaded_model\u001b[0m \u001b[0;34m=\u001b[0m \u001b[0mmodel_from_json\u001b[0m\u001b[0;34m(\u001b[0m\u001b[0mloaded_model_json\u001b[0m\u001b[0;34m)\u001b[0m\u001b[0;34m\u001b[0m\u001b[0m\n\u001b[1;32m      5\u001b[0m \u001b[0;31m# load weights into new model\u001b[0m\u001b[0;34m\u001b[0m\u001b[0;34m\u001b[0m\u001b[0m\n",
            "\u001b[0;31mFileNotFoundError\u001b[0m: [Errno 2] No such file or directory: 'model_5_5.json'"
          ]
        }
      ]
    },
    {
      "metadata": {
        "id": "7-yrNPsEncs-",
        "colab_type": "code",
        "colab": {}
      },
      "cell_type": "code",
      "source": [
        "!tar -xvf journal.tar.gz"
      ],
      "execution_count": 0,
      "outputs": []
    },
    {
      "metadata": {
        "id": "NdiOZ8adnqhD",
        "colab_type": "code",
        "colab": {}
      },
      "cell_type": "code",
      "source": [
        "rootDir = '.'\n",
        "n_images = 10000\n",
        "images = np.zeros((n_images,) + (20, 20))\n",
        "\n",
        "labels = []\n",
        "lab = {\n",
        "    '0': 1, '1': 2, '2': 3, '3':4, '4':5, '5':6, '6':7, '7':8, '8':9, '9':10,\n",
        "    'A': 11, 'B': 12, 'C': 13, 'D': 14, 'E': 15, 'F': 16, 'G': 17, 'H': 18, 'I': 19, 'J': 20, 'K': 21, 'L': 22, 'M': 23, \n",
        "    'N': 24, 'O': 25, 'P': 26, 'Q': 27, 'R': 28, 'S': 29, 'T': 30, 'U': 31, 'V': 32, 'W': 33, 'X': 34, 'Y': 35, 'Z': 36,\n",
        "    'a': 11, 'b': 12, 'c': 13, 'd': 14, 'e': 15, 'f': 16, 'g': 17, 'h': 18, 'i': 19, 'j': 20, 'k': 21, 'l': 22, 'm': 23, \n",
        "    'n': 24, 'o': 25, 'p': 26, 'q': 27, 'r': 28, 's': 29, 't': 30, 'u': 31, 'v': 32, 'w': 33, 'x': 34, 'y': 35, 'z': 36\n",
        "}\n",
        "j = 0\n",
        "for dirName, subdirList, fileList in os.walk(rootDir):\n",
        "    # print(dirName, subdirList, fileList)\n",
        "    i = 0\n",
        "    for fname in fileList:\n",
        "        if 'png' not in fname:\n",
        "            continue\n",
        "        full_path = os.path.join(dirName, fname)\n",
        "        \n",
        "        if dirName[-1] in lab and dirName[-2] == '/':\n",
        "            print(full_path, lab[dirName[-1]])\n",
        "        else:\n",
        "            continue\n",
        "        \n",
        "        images[j] = resize(imread(full_path, as_grey=True), (20, 20)) \n",
        "        labels.append(lab[dirName[-1]])\n",
        "        j += 1\n",
        "        i += 1\n",
        "        # if i == 5:\n",
        "        #     break\n",
        "images = images[:len(labels)]"
      ],
      "execution_count": 0,
      "outputs": []
    },
    {
      "metadata": {
        "id": "H6ymDpxtwbAD",
        "colab_type": "code",
        "colab": {}
      },
      "cell_type": "code",
      "source": [
        "x = images.reshape(images.shape[0], 20, 20 , 1).astype('float32')\n",
        "y = to_categorical(labels, num_classes=37)"
      ],
      "execution_count": 0,
      "outputs": []
    },
    {
      "metadata": {
        "id": "bf8QPhaFydh_",
        "colab_type": "code",
        "colab": {}
      },
      "cell_type": "code",
      "source": [
        "len(labels), images[0], labels[0]"
      ],
      "execution_count": 0,
      "outputs": []
    },
    {
      "metadata": {
        "id": "V28ky1hIyoOu",
        "colab_type": "code",
        "colab": {
          "base_uri": "https://localhost:8080/",
          "height": 34
        },
        "outputId": "4245b4c1-1f0e-424d-cea2-a6259382ac20"
      },
      "cell_type": "code",
      "source": [
        "labels[0], y[0][28]"
      ],
      "execution_count": 37,
      "outputs": [
        {
          "output_type": "execute_result",
          "data": {
            "text/plain": [
              "(28, 1.0)"
            ]
          },
          "metadata": {
            "tags": []
          },
          "execution_count": 37
        }
      ]
    },
    {
      "metadata": {
        "id": "nUkz5ZeSv4bB",
        "colab_type": "code",
        "colab": {
          "base_uri": "https://localhost:8080/",
          "height": 34
        },
        "outputId": "73b25446-33f2-4ab3-d289-d39a722395bf"
      },
      "cell_type": "code",
      "source": [
        "loaded_model.compile(loss=keras.losses.categorical_crossentropy, optimizer=keras.optimizers.Adadelta(), metrics=['accuracy'])\n",
        "score = loaded_model.evaluate(x, y, verbose=0)\n",
        "print(\"%s: %.2f%%\" % (loaded_model.metrics_names[1], score[1]*100))"
      ],
      "execution_count": 8,
      "outputs": [
        {
          "output_type": "stream",
          "text": [
            "acc: 8.47%\n"
          ],
          "name": "stdout"
        }
      ]
    },
    {
      "metadata": {
        "id": "yj8ZKnL9JjTW",
        "colab_type": "code",
        "colab": {
          "base_uri": "https://localhost:8080/",
          "height": 442
        },
        "outputId": "880ce431-41c0-4d3c-9eb0-4ddc72fd808a"
      },
      "cell_type": "code",
      "source": [
        "loaded_model.summary()"
      ],
      "execution_count": 30,
      "outputs": [
        {
          "output_type": "stream",
          "text": [
            "_________________________________________________________________\n",
            "Layer (type)                 Output Shape              Param #   \n",
            "=================================================================\n",
            "conv2d_1 (Conv2D)            (None, 16, 16, 32)        832       \n",
            "_________________________________________________________________\n",
            "conv2d_2 (Conv2D)            (None, 12, 12, 64)        51264     \n",
            "_________________________________________________________________\n",
            "conv2d_3 (Conv2D)            (None, 8, 8, 128)         204928    \n",
            "_________________________________________________________________\n",
            "max_pooling2d_1 (MaxPooling2 (None, 4, 4, 128)         0         \n",
            "_________________________________________________________________\n",
            "dropout_1 (Dropout)          (None, 4, 4, 128)         0         \n",
            "_________________________________________________________________\n",
            "flatten_1 (Flatten)          (None, 2048)              0         \n",
            "_________________________________________________________________\n",
            "dense_1 (Dense)              (None, 128)               262272    \n",
            "_________________________________________________________________\n",
            "dropout_2 (Dropout)          (None, 128)               0         \n",
            "_________________________________________________________________\n",
            "dense_2 (Dense)              (None, 37)                4773      \n",
            "=================================================================\n",
            "Total params: 524,069\n",
            "Trainable params: 524,069\n",
            "Non-trainable params: 0\n",
            "_________________________________________________________________\n"
          ],
          "name": "stdout"
        }
      ]
    },
    {
      "metadata": {
        "id": "Wj6IsifmKfsY",
        "colab_type": "code",
        "colab": {
          "base_uri": "https://localhost:8080/",
          "height": 34
        },
        "outputId": "8ab5be1d-753a-4336-8173-01b90d1fa996"
      },
      "cell_type": "code",
      "source": [
        "print(len(loaded_model.layers))\n",
        "for layer in loaded_model.layers[:-1]:\n",
        "    layer.trainable = False"
      ],
      "execution_count": 31,
      "outputs": [
        {
          "output_type": "stream",
          "text": [
            "9\n"
          ],
          "name": "stdout"
        }
      ]
    },
    {
      "metadata": {
        "id": "kTn3cqEALADQ",
        "colab_type": "code",
        "colab": {
          "base_uri": "https://localhost:8080/",
          "height": 442
        },
        "outputId": "57bec595-dfff-4ef9-fbaf-e411dfe0190a"
      },
      "cell_type": "code",
      "source": [
        "loaded_model.summary()"
      ],
      "execution_count": 32,
      "outputs": [
        {
          "output_type": "stream",
          "text": [
            "_________________________________________________________________\n",
            "Layer (type)                 Output Shape              Param #   \n",
            "=================================================================\n",
            "conv2d_1 (Conv2D)            (None, 16, 16, 32)        832       \n",
            "_________________________________________________________________\n",
            "conv2d_2 (Conv2D)            (None, 12, 12, 64)        51264     \n",
            "_________________________________________________________________\n",
            "conv2d_3 (Conv2D)            (None, 8, 8, 128)         204928    \n",
            "_________________________________________________________________\n",
            "max_pooling2d_1 (MaxPooling2 (None, 4, 4, 128)         0         \n",
            "_________________________________________________________________\n",
            "dropout_1 (Dropout)          (None, 4, 4, 128)         0         \n",
            "_________________________________________________________________\n",
            "flatten_1 (Flatten)          (None, 2048)              0         \n",
            "_________________________________________________________________\n",
            "dense_1 (Dense)              (None, 128)               262272    \n",
            "_________________________________________________________________\n",
            "dropout_2 (Dropout)          (None, 128)               0         \n",
            "_________________________________________________________________\n",
            "dense_2 (Dense)              (None, 37)                4773      \n",
            "=================================================================\n",
            "Total params: 524,069\n",
            "Trainable params: 4,773\n",
            "Non-trainable params: 519,296\n",
            "_________________________________________________________________\n"
          ],
          "name": "stdout"
        }
      ]
    },
    {
      "metadata": {
        "id": "p2KKcbvpQb9V",
        "colab_type": "code",
        "colab": {
          "base_uri": "https://localhost:8080/",
          "height": 34
        },
        "outputId": "d6c56c3c-a6ff-4d5d-d0a6-dfc5b4292e5d"
      },
      "cell_type": "code",
      "source": [
        "loaded_model.layers.pop()"
      ],
      "execution_count": 41,
      "outputs": [
        {
          "output_type": "execute_result",
          "data": {
            "text/plain": [
              "<keras.layers.core.Dense at 0x7ff61b28a7f0>"
            ]
          },
          "metadata": {
            "tags": []
          },
          "execution_count": 41
        }
      ]
    },
    {
      "metadata": {
        "id": "X9aZssTPQsEN",
        "colab_type": "code",
        "colab": {
          "base_uri": "https://localhost:8080/",
          "height": 340
        },
        "outputId": "2fb306e5-684d-4706-9377-a7d0ed04b51f"
      },
      "cell_type": "code",
      "source": [
        "loaded_model.summary()"
      ],
      "execution_count": 42,
      "outputs": [
        {
          "output_type": "stream",
          "text": [
            "_________________________________________________________________\n",
            "Layer (type)                 Output Shape              Param #   \n",
            "=================================================================\n",
            "conv2d_1 (Conv2D)            (None, 16, 16, 32)        832       \n",
            "_________________________________________________________________\n",
            "conv2d_2 (Conv2D)            (None, 12, 12, 64)        51264     \n",
            "_________________________________________________________________\n",
            "conv2d_3 (Conv2D)            (None, 8, 8, 128)         204928    \n",
            "_________________________________________________________________\n",
            "max_pooling2d_1 (MaxPooling2 (None, 4, 4, 128)         0         \n",
            "_________________________________________________________________\n",
            "dropout_1 (Dropout)          (None, 4, 4, 128)         0         \n",
            "_________________________________________________________________\n",
            "flatten_1 (Flatten)          (None, 2048)              0         \n",
            "=================================================================\n",
            "Total params: 257,024\n",
            "Trainable params: 0\n",
            "Non-trainable params: 257,024\n",
            "_________________________________________________________________\n"
          ],
          "name": "stdout"
        }
      ]
    },
    {
      "metadata": {
        "id": "e_pD9v2TLGhZ",
        "colab_type": "code",
        "colab": {}
      },
      "cell_type": "code",
      "source": [
        "num_classes = 36\n",
        "loaded_model.add(Dense(num_classes, activation='softmax'))\n",
        "loaded_model.layers[-1].name += '_2'\n"
      ],
      "execution_count": 0,
      "outputs": []
    },
    {
      "metadata": {
        "id": "hj8kok2qQQ0O",
        "colab_type": "code",
        "colab": {
          "base_uri": "https://localhost:8080/",
          "height": 374
        },
        "outputId": "e39cd4ed-c7b5-4bf1-f803-51b929d9e08b"
      },
      "cell_type": "code",
      "source": [
        "loaded_model.summary()"
      ],
      "execution_count": 44,
      "outputs": [
        {
          "output_type": "stream",
          "text": [
            "_________________________________________________________________\n",
            "Layer (type)                 Output Shape              Param #   \n",
            "=================================================================\n",
            "conv2d_1 (Conv2D)            (None, 16, 16, 32)        832       \n",
            "_________________________________________________________________\n",
            "conv2d_2 (Conv2D)            (None, 12, 12, 64)        51264     \n",
            "_________________________________________________________________\n",
            "conv2d_3 (Conv2D)            (None, 8, 8, 128)         204928    \n",
            "_________________________________________________________________\n",
            "max_pooling2d_1 (MaxPooling2 (None, 4, 4, 128)         0         \n",
            "_________________________________________________________________\n",
            "dropout_1 (Dropout)          (None, 4, 4, 128)         0         \n",
            "_________________________________________________________________\n",
            "flatten_1 (Flatten)          (None, 2048)              0         \n",
            "_________________________________________________________________\n",
            "dense_5_2 (Dense)            (None, 36)                1332      \n",
            "=================================================================\n",
            "Total params: 258,356\n",
            "Trainable params: 1,332\n",
            "Non-trainable params: 257,024\n",
            "_________________________________________________________________\n"
          ],
          "name": "stdout"
        }
      ]
    },
    {
      "metadata": {
        "id": "HZQrOO_l5Hqm",
        "colab_type": "code",
        "colab": {
          "base_uri": "https://localhost:8080/",
          "height": 71
        },
        "outputId": "d5a13b6c-8ba2-41d1-b8cf-21a2c8278b11"
      },
      "cell_type": "code",
      "source": [
        "k = sample(range(len(images)), len(images))\n",
        "im_shuf = images[k]\n",
        "labels_shuf = np.array(labels)[k]\n",
        "    \n",
        "ocr = {\n",
        "    'images': im_shuf,\n",
        "    'data': im_shuf.reshape((im_shuf.shape[0], -1)), # / 255.0\n",
        "    'target': labels_shuf\n",
        "}\n",
        "x_train, x_test, y_train, y_test = train_test_split(im_shuf, labels_shuf, random_state=2, train_size=0.8)\n",
        "X_train = x_train.reshape(x_train.shape[0], 20, 20 , 1).astype('float32')\n",
        "X_test = x_test.reshape(x_test.shape[0], 20, 20 , 1).astype('float32')\n",
        "y_train = to_categorical(y_train)\n",
        "y_test = to_categorical(y_test)"
      ],
      "execution_count": 48,
      "outputs": [
        {
          "output_type": "stream",
          "text": [
            "/usr/local/lib/python3.6/dist-packages/sklearn/model_selection/_split.py:2026: FutureWarning: From version 0.21, test_size will always complement train_size unless both are specified.\n",
            "  FutureWarning)\n"
          ],
          "name": "stderr"
        }
      ]
    },
    {
      "metadata": {
        "id": "8iufD5956Hkm",
        "colab_type": "code",
        "colab": {
          "base_uri": "https://localhost:8080/",
          "height": 34
        },
        "outputId": "751ec931-6181-47ea-9ab1-5bb2d3b077a8"
      },
      "cell_type": "code",
      "source": [
        "labels_shuf"
      ],
      "execution_count": 14,
      "outputs": [
        {
          "output_type": "execute_result",
          "data": {
            "text/plain": [
              "array([11, 30, 24, ..., 35, 29, 11])"
            ]
          },
          "metadata": {
            "tags": []
          },
          "execution_count": 14
        }
      ]
    },
    {
      "metadata": {
        "id": "zpV7EMa5MPfe",
        "colab_type": "code",
        "colab": {
          "base_uri": "https://localhost:8080/",
          "height": 2108
        },
        "outputId": "1f8dcbab-94a8-4aa6-e8d3-2c803b87aab2"
      },
      "cell_type": "code",
      "source": [
        "batch_size = 128\n",
        "loaded_model.compile(loss=keras.losses.categorical_crossentropy,\n",
        "              optimizer=keras.optimizers.Adadelta(),\n",
        "              metrics=['accuracy'])\n",
        "loaded_model.fit(X_train, y_train, batch_size=batch_size,\n",
        "                        nb_epoch=60,\n",
        "                        verbose=1)"
      ],
      "execution_count": 49,
      "outputs": [
        {
          "output_type": "stream",
          "text": [
            "/usr/local/lib/python3.6/dist-packages/keras/models.py:981: UserWarning: The `nb_epoch` argument in `fit` has been renamed `epochs`.\n",
            "  warnings.warn('The `nb_epoch` argument in `fit` '\n"
          ],
          "name": "stderr"
        },
        {
          "output_type": "stream",
          "text": [
            "Epoch 1/60\n",
            "1510/1510 [==============================] - 2s 1ms/step - loss: 3.5821 - acc: 0.0430\n",
            "Epoch 2/60\n",
            "1510/1510 [==============================] - 2s 1ms/step - loss: 3.5576 - acc: 0.0742\n",
            "Epoch 3/60\n",
            "1510/1510 [==============================] - 2s 1ms/step - loss: 3.5341 - acc: 0.0795\n",
            "Epoch 4/60\n",
            "1510/1510 [==============================] - 2s 1ms/step - loss: 3.5115 - acc: 0.0742\n",
            "Epoch 5/60\n",
            "1510/1510 [==============================] - 2s 1ms/step - loss: 3.4897 - acc: 0.0742\n",
            "Epoch 6/60\n",
            "1510/1510 [==============================] - 2s 1ms/step - loss: 3.4686 - acc: 0.0742\n",
            "Epoch 7/60\n",
            "1510/1510 [==============================] - 2s 1ms/step - loss: 3.4484 - acc: 0.0742\n",
            "Epoch 8/60\n",
            "1510/1510 [==============================] - 2s 1ms/step - loss: 3.4290 - acc: 0.0742\n",
            "Epoch 9/60\n",
            "1510/1510 [==============================] - 2s 1ms/step - loss: 3.4102 - acc: 0.0742\n",
            "Epoch 10/60\n",
            "1510/1510 [==============================] - 2s 1ms/step - loss: 3.3921 - acc: 0.0742\n",
            "Epoch 11/60\n",
            "1510/1510 [==============================] - 2s 1ms/step - loss: 3.3744 - acc: 0.0742\n",
            "Epoch 12/60\n",
            "1510/1510 [==============================] - 2s 1ms/step - loss: 3.3575 - acc: 0.0735\n",
            "Epoch 13/60\n",
            "1510/1510 [==============================] - 2s 1ms/step - loss: 3.3408 - acc: 0.0702\n",
            "Epoch 14/60\n",
            "1510/1510 [==============================] - 2s 1ms/step - loss: 3.3244 - acc: 0.0821\n",
            "Epoch 15/60\n",
            "1510/1510 [==============================] - 2s 1ms/step - loss: 3.3085 - acc: 0.0815\n",
            "Epoch 16/60\n",
            "1510/1510 [==============================] - 2s 1ms/step - loss: 3.2923 - acc: 0.0788\n",
            "Epoch 17/60\n",
            "1510/1510 [==============================] - 2s 1ms/step - loss: 3.2762 - acc: 0.0795\n",
            "Epoch 18/60\n",
            "1510/1510 [==============================] - 2s 1ms/step - loss: 3.2595 - acc: 0.0775\n",
            "Epoch 19/60\n",
            "1510/1510 [==============================] - 2s 1ms/step - loss: 3.2423 - acc: 0.0775\n",
            "Epoch 20/60\n",
            "1510/1510 [==============================] - 2s 1ms/step - loss: 3.2240 - acc: 0.0788\n",
            "Epoch 21/60\n",
            "1510/1510 [==============================] - 2s 1ms/step - loss: 3.2045 - acc: 0.0768\n",
            "Epoch 22/60\n",
            "1510/1510 [==============================] - 2s 1ms/step - loss: 3.1848 - acc: 0.0762\n",
            "Epoch 23/60\n",
            "1510/1510 [==============================] - 2s 1ms/step - loss: 3.1640 - acc: 0.0742\n",
            "Epoch 24/60\n",
            "1510/1510 [==============================] - 2s 1ms/step - loss: 3.1449 - acc: 0.0927\n",
            "Epoch 25/60\n",
            "1510/1510 [==============================] - 2s 1ms/step - loss: 3.1283 - acc: 0.1007\n",
            "Epoch 26/60\n",
            "1510/1510 [==============================] - 2s 1ms/step - loss: 3.1127 - acc: 0.1013\n",
            "Epoch 27/60\n",
            "1510/1510 [==============================] - 2s 1ms/step - loss: 3.0998 - acc: 0.1013\n",
            "Epoch 28/60\n",
            "1510/1510 [==============================] - 2s 1ms/step - loss: 3.0888 - acc: 0.1013\n",
            "Epoch 29/60\n",
            "1510/1510 [==============================] - 2s 1ms/step - loss: 3.0800 - acc: 0.1013\n",
            "Epoch 30/60\n",
            "1510/1510 [==============================] - 2s 1ms/step - loss: 3.0723 - acc: 0.1013\n",
            "Epoch 31/60\n",
            "1510/1510 [==============================] - 2s 1ms/step - loss: 3.0653 - acc: 0.1013\n",
            "Epoch 32/60\n",
            "1510/1510 [==============================] - 2s 1ms/step - loss: 3.0591 - acc: 0.1013\n",
            "Epoch 33/60\n",
            "1510/1510 [==============================] - 2s 1ms/step - loss: 3.0550 - acc: 0.1013\n",
            "Epoch 34/60\n",
            "1510/1510 [==============================] - 2s 1ms/step - loss: 3.0511 - acc: 0.1020\n",
            "Epoch 35/60\n",
            "1510/1510 [==============================] - 2s 1ms/step - loss: 3.0467 - acc: 0.1013\n",
            "Epoch 36/60\n",
            "1510/1510 [==============================] - 2s 1ms/step - loss: 3.0440 - acc: 0.1013\n",
            "Epoch 37/60\n",
            "1510/1510 [==============================] - 2s 1ms/step - loss: 3.0410 - acc: 0.1013\n",
            "Epoch 38/60\n",
            "1510/1510 [==============================] - 2s 1ms/step - loss: 3.0386 - acc: 0.1013\n",
            "Epoch 39/60\n",
            "1510/1510 [==============================] - 2s 1ms/step - loss: 3.0353 - acc: 0.1013\n",
            "Epoch 40/60\n",
            "1510/1510 [==============================] - 2s 1ms/step - loss: 3.0331 - acc: 0.1013\n",
            "Epoch 41/60\n",
            "1510/1510 [==============================] - 2s 1ms/step - loss: 3.0324 - acc: 0.1013\n",
            "Epoch 42/60\n",
            "1510/1510 [==============================] - 2s 1ms/step - loss: 3.0295 - acc: 0.1013\n",
            "Epoch 43/60\n",
            "1510/1510 [==============================] - 2s 1ms/step - loss: 3.0286 - acc: 0.1013\n",
            "Epoch 44/60\n",
            "1510/1510 [==============================] - 2s 1ms/step - loss: 3.0268 - acc: 0.1013\n",
            "Epoch 45/60\n",
            "1510/1510 [==============================] - 2s 1ms/step - loss: 3.0247 - acc: 0.1013\n",
            "Epoch 46/60\n",
            "1510/1510 [==============================] - 2s 1ms/step - loss: 3.0241 - acc: 0.1013\n",
            "Epoch 47/60\n",
            "1510/1510 [==============================] - 2s 1ms/step - loss: 3.0227 - acc: 0.1013\n",
            "Epoch 48/60\n",
            "1510/1510 [==============================] - 2s 1ms/step - loss: 3.0209 - acc: 0.1013\n",
            "Epoch 49/60\n",
            "1510/1510 [==============================] - 2s 1ms/step - loss: 3.0207 - acc: 0.1013\n",
            "Epoch 50/60\n",
            "1510/1510 [==============================] - 2s 1ms/step - loss: 3.0193 - acc: 0.1013\n",
            "Epoch 51/60\n",
            "1510/1510 [==============================] - 2s 1ms/step - loss: 3.0179 - acc: 0.1013\n",
            "Epoch 52/60\n",
            "1510/1510 [==============================] - 2s 1ms/step - loss: 3.0186 - acc: 0.1013\n",
            "Epoch 53/60\n",
            "1510/1510 [==============================] - 2s 1ms/step - loss: 3.0166 - acc: 0.1013\n",
            "Epoch 54/60\n",
            "1510/1510 [==============================] - 2s 1ms/step - loss: 3.0154 - acc: 0.1013\n",
            "Epoch 55/60\n",
            "1510/1510 [==============================] - 2s 1ms/step - loss: 3.0157 - acc: 0.1013\n",
            "Epoch 56/60\n",
            "1510/1510 [==============================] - 2s 1ms/step - loss: 3.0153 - acc: 0.1013\n",
            "Epoch 57/60\n",
            "1510/1510 [==============================] - 2s 1ms/step - loss: 3.0140 - acc: 0.1013\n",
            "Epoch 58/60\n",
            "1510/1510 [==============================] - 2s 1ms/step - loss: 3.0142 - acc: 0.1013\n",
            "Epoch 59/60\n",
            "1510/1510 [==============================] - 2s 1ms/step - loss: 3.0125 - acc: 0.1013\n",
            "Epoch 60/60\n",
            "1510/1510 [==============================] - 2s 1ms/step - loss: 3.0128 - acc: 0.1013\n"
          ],
          "name": "stdout"
        },
        {
          "output_type": "execute_result",
          "data": {
            "text/plain": [
              "<keras.callbacks.History at 0x7ff61ac93860>"
            ]
          },
          "metadata": {
            "tags": []
          },
          "execution_count": 49
        }
      ]
    },
    {
      "metadata": {
        "id": "4pVBfBlp5FDQ",
        "colab_type": "code",
        "colab": {
          "base_uri": "https://localhost:8080/",
          "height": 1051
        },
        "outputId": "d8909a82-59fa-47c5-f8b1-c42a752460e9"
      },
      "cell_type": "code",
      "source": [
        "num_classes = 36\n",
        "batch_size = 128\n",
        "\n",
        "X_train = x_train.reshape(x_train.shape[0], 20, 20 , 1).astype('float32')\n",
        "X_test = x_test.reshape(x_test.shape[0], 20, 20 , 1).astype('float32')\n",
        "y_train = to_categorical(y_train)\n",
        "y_test = to_categorical(y_test)\n",
        "\n",
        "model = Sequential()\n",
        "\n",
        "model.add(Conv2D(32, kernel_size=(3, 3), activation='relu', input_shape=(20, 20, 1)))\n",
        "\n",
        "model.add(Conv2D(64, (3, 3), activation='relu'))\n",
        "\n",
        "model.add(Conv2D(128, (3, 3), activation='relu'))\n",
        "model.add(MaxPooling2D(pool_size=(2, 2)))\n",
        "\n",
        "model.add(Dropout(0.25))\n",
        "model.add(Flatten())\n",
        "model.summary()\n",
        "model.add(Dense(128, activation='relu'))\n",
        "model.add(Dropout(0.5))\n",
        "\n",
        "model.add(Dense(num_classes, activation='softmax'))\n",
        "\n",
        "model.compile(loss=keras.losses.categorical_crossentropy,\n",
        "              optimizer=keras.optimizers.Adadelta(),\n",
        "              metrics=['accuracy'])\n",
        "model.fit(X_train, y_train, batch_size=batch_size,\n",
        "                        nb_epoch=60,\n",
        "                        verbose=1)"
      ],
      "execution_count": 46,
      "outputs": [
        {
          "output_type": "stream",
          "text": [
            "_________________________________________________________________\n",
            "Layer (type)                 Output Shape              Param #   \n",
            "=================================================================\n",
            "conv2d_1 (Conv2D)            (None, 18, 18, 32)        320       \n",
            "_________________________________________________________________\n",
            "conv2d_2 (Conv2D)            (None, 16, 16, 64)        18496     \n",
            "_________________________________________________________________\n",
            "conv2d_3 (Conv2D)            (None, 14, 14, 128)       73856     \n",
            "_________________________________________________________________\n",
            "max_pooling2d_1 (MaxPooling2 (None, 7, 7, 128)         0         \n",
            "_________________________________________________________________\n",
            "dropout_1 (Dropout)          (None, 7, 7, 128)         0         \n",
            "_________________________________________________________________\n",
            "flatten_1 (Flatten)          (None, 6272)              0         \n",
            "=================================================================\n",
            "Total params: 92,672\n",
            "Trainable params: 92,672\n",
            "Non-trainable params: 0\n",
            "_________________________________________________________________\n"
          ],
          "name": "stdout"
        },
        {
          "output_type": "stream",
          "text": [
            "/usr/local/lib/python3.6/dist-packages/keras/models.py:981: UserWarning: The `nb_epoch` argument in `fit` has been renamed `epochs`.\n",
            "  warnings.warn('The `nb_epoch` argument in `fit` '\n"
          ],
          "name": "stderr"
        },
        {
          "output_type": "error",
          "ename": "ValueError",
          "evalue": "ignored",
          "traceback": [
            "\u001b[0;31m---------------------------------------------------------------------------\u001b[0m",
            "\u001b[0;31mValueError\u001b[0m                                Traceback (most recent call last)",
            "\u001b[0;32m<ipython-input-46-f681ec59a825>\u001b[0m in \u001b[0;36m<module>\u001b[0;34m()\u001b[0m\n\u001b[1;32m     29\u001b[0m model.fit(X_train, y_train, batch_size=batch_size,\n\u001b[1;32m     30\u001b[0m                         \u001b[0mnb_epoch\u001b[0m\u001b[0;34m=\u001b[0m\u001b[0;36m60\u001b[0m\u001b[0;34m,\u001b[0m\u001b[0;34m\u001b[0m\u001b[0m\n\u001b[0;32m---> 31\u001b[0;31m                         verbose=1)\n\u001b[0m",
            "\u001b[0;32m/usr/local/lib/python3.6/dist-packages/keras/models.py\u001b[0m in \u001b[0;36mfit\u001b[0;34m(self, x, y, batch_size, epochs, verbose, callbacks, validation_split, validation_data, shuffle, class_weight, sample_weight, initial_epoch, steps_per_epoch, validation_steps, **kwargs)\u001b[0m\n\u001b[1;32m   1000\u001b[0m                               \u001b[0minitial_epoch\u001b[0m\u001b[0;34m=\u001b[0m\u001b[0minitial_epoch\u001b[0m\u001b[0;34m,\u001b[0m\u001b[0;34m\u001b[0m\u001b[0m\n\u001b[1;32m   1001\u001b[0m                               \u001b[0msteps_per_epoch\u001b[0m\u001b[0;34m=\u001b[0m\u001b[0msteps_per_epoch\u001b[0m\u001b[0;34m,\u001b[0m\u001b[0;34m\u001b[0m\u001b[0m\n\u001b[0;32m-> 1002\u001b[0;31m                               validation_steps=validation_steps)\n\u001b[0m\u001b[1;32m   1003\u001b[0m \u001b[0;34m\u001b[0m\u001b[0m\n\u001b[1;32m   1004\u001b[0m     def evaluate(self, x=None, y=None,\n",
            "\u001b[0;32m/usr/local/lib/python3.6/dist-packages/keras/engine/training.py\u001b[0m in \u001b[0;36mfit\u001b[0;34m(self, x, y, batch_size, epochs, verbose, callbacks, validation_split, validation_data, shuffle, class_weight, sample_weight, initial_epoch, steps_per_epoch, validation_steps, **kwargs)\u001b[0m\n\u001b[1;32m   1628\u001b[0m             \u001b[0msample_weight\u001b[0m\u001b[0;34m=\u001b[0m\u001b[0msample_weight\u001b[0m\u001b[0;34m,\u001b[0m\u001b[0;34m\u001b[0m\u001b[0m\n\u001b[1;32m   1629\u001b[0m             \u001b[0mclass_weight\u001b[0m\u001b[0;34m=\u001b[0m\u001b[0mclass_weight\u001b[0m\u001b[0;34m,\u001b[0m\u001b[0;34m\u001b[0m\u001b[0m\n\u001b[0;32m-> 1630\u001b[0;31m             batch_size=batch_size)\n\u001b[0m\u001b[1;32m   1631\u001b[0m         \u001b[0;31m# Prepare validation data.\u001b[0m\u001b[0;34m\u001b[0m\u001b[0;34m\u001b[0m\u001b[0m\n\u001b[1;32m   1632\u001b[0m         \u001b[0mdo_validation\u001b[0m \u001b[0;34m=\u001b[0m \u001b[0;32mFalse\u001b[0m\u001b[0;34m\u001b[0m\u001b[0m\n",
            "\u001b[0;32m/usr/local/lib/python3.6/dist-packages/keras/engine/training.py\u001b[0m in \u001b[0;36m_standardize_user_data\u001b[0;34m(self, x, y, sample_weight, class_weight, check_array_lengths, batch_size)\u001b[0m\n\u001b[1;32m   1478\u001b[0m                                     \u001b[0moutput_shapes\u001b[0m\u001b[0;34m,\u001b[0m\u001b[0;34m\u001b[0m\u001b[0m\n\u001b[1;32m   1479\u001b[0m                                     \u001b[0mcheck_batch_axis\u001b[0m\u001b[0;34m=\u001b[0m\u001b[0;32mFalse\u001b[0m\u001b[0;34m,\u001b[0m\u001b[0;34m\u001b[0m\u001b[0m\n\u001b[0;32m-> 1480\u001b[0;31m                                     exception_prefix='target')\n\u001b[0m\u001b[1;32m   1481\u001b[0m         sample_weights = _standardize_sample_weights(sample_weight,\n\u001b[1;32m   1482\u001b[0m                                                      self._feed_output_names)\n",
            "\u001b[0;32m/usr/local/lib/python3.6/dist-packages/keras/engine/training.py\u001b[0m in \u001b[0;36m_standardize_input_data\u001b[0;34m(data, names, shapes, check_batch_axis, exception_prefix)\u001b[0m\n\u001b[1;32m    111\u001b[0m                         \u001b[0;34m': expected '\u001b[0m \u001b[0;34m+\u001b[0m \u001b[0mnames\u001b[0m\u001b[0;34m[\u001b[0m\u001b[0mi\u001b[0m\u001b[0;34m]\u001b[0m \u001b[0;34m+\u001b[0m \u001b[0;34m' to have '\u001b[0m \u001b[0;34m+\u001b[0m\u001b[0;34m\u001b[0m\u001b[0m\n\u001b[1;32m    112\u001b[0m                         \u001b[0mstr\u001b[0m\u001b[0;34m(\u001b[0m\u001b[0mlen\u001b[0m\u001b[0;34m(\u001b[0m\u001b[0mshape\u001b[0m\u001b[0;34m)\u001b[0m\u001b[0;34m)\u001b[0m \u001b[0;34m+\u001b[0m \u001b[0;34m' dimensions, but got array '\u001b[0m\u001b[0;34m\u001b[0m\u001b[0m\n\u001b[0;32m--> 113\u001b[0;31m                         'with shape ' + str(data_shape))\n\u001b[0m\u001b[1;32m    114\u001b[0m                 \u001b[0;32mif\u001b[0m \u001b[0;32mnot\u001b[0m \u001b[0mcheck_batch_axis\u001b[0m\u001b[0;34m:\u001b[0m\u001b[0;34m\u001b[0m\u001b[0m\n\u001b[1;32m    115\u001b[0m                     \u001b[0mdata_shape\u001b[0m \u001b[0;34m=\u001b[0m \u001b[0mdata_shape\u001b[0m\u001b[0;34m[\u001b[0m\u001b[0;36m1\u001b[0m\u001b[0;34m:\u001b[0m\u001b[0;34m]\u001b[0m\u001b[0;34m\u001b[0m\u001b[0m\n",
            "\u001b[0;31mValueError\u001b[0m: Error when checking target: expected dense_7 to have 2 dimensions, but got array with shape (1510, 36, 2)"
          ]
        }
      ]
    },
    {
      "metadata": {
        "id": "FogihFfB7dCI",
        "colab_type": "code",
        "colab": {
          "base_uri": "https://localhost:8080/",
          "height": 34
        },
        "outputId": "605ef7b5-a295-4d0b-f13c-631b67c60dc4"
      },
      "cell_type": "code",
      "source": [
        "scores = model.evaluate(X_test, y_test, verbose = 10 )\n",
        "print ( scores )"
      ],
      "execution_count": 78,
      "outputs": [
        {
          "output_type": "stream",
          "text": [
            "[2.455313619482454, 0.5529100530677371]\n"
          ],
          "name": "stdout"
        }
      ]
    }
  ]
}