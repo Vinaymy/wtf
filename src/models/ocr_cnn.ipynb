{
  "nbformat": 4,
  "nbformat_minor": 0,
  "metadata": {
    "colab": {
      "name": "char_rec_mlp2.ipynb",
      "version": "0.3.2",
      "provenance": [],
      "collapsed_sections": [],
      "toc_visible": true
    },
    "kernelspec": {
      "name": "python3",
      "display_name": "Python 3"
    }
  },
  "cells": [
    {
      "metadata": {
        "id": "LZaaWB7mlQrv",
        "colab_type": "code",
        "colab": {
          "base_uri": "https://localhost:8080/",
          "height": 122
        },
        "outputId": "a65147aa-54bf-4a5c-c70d-dd1418aaac75"
      },
      "cell_type": "code",
      "source": [
        "import os\n",
        "import numpy as np\n",
        "import keras\n",
        "from skimage.io import imread\n",
        "from skimage.transform import resize\n",
        "from matplotlib import pyplot as plt\n",
        "from random import seed, sample\n",
        "from sklearn.svm import LinearSVC\n",
        "from sklearn.grid_search import GridSearchCV\n",
        "from pprint import pprint\n",
        "from sklearn.metrics import accuracy_score\n",
        "from random import randint\n",
        "from sklearn.model_selection import train_test_split\n",
        "from keras.utils.np_utils import to_categorical\n",
        "from keras.models import Sequential\n",
        "from keras.layers import Conv2D, MaxPooling2D, Dropout, Flatten, Dense\n",
        "# image = imread(os.path.join(self.folder_data, couple[0] + '.png'), as_grey=True)"
      ],
      "execution_count": 2,
      "outputs": [
        {
          "output_type": "stream",
          "text": [
            "Using TensorFlow backend.\n",
            "/usr/local/lib/python3.6/dist-packages/sklearn/cross_validation.py:41: DeprecationWarning: This module was deprecated in version 0.18 in favor of the model_selection module into which all the refactored classes and functions are moved. Also note that the interface of the new CV iterators are different from that of this module. This module will be removed in 0.20.\n",
            "  \"This module will be removed in 0.20.\", DeprecationWarning)\n",
            "/usr/local/lib/python3.6/dist-packages/sklearn/grid_search.py:42: DeprecationWarning: This module was deprecated in version 0.18 in favor of the model_selection module into which all the refactored classes and functions are moved. This module will be removed in 0.20.\n",
            "  DeprecationWarning)\n"
          ],
          "name": "stderr"
        }
      ]
    },
    {
      "metadata": {
        "id": "EhZ8c-SN0f8l",
        "colab_type": "code",
        "colab": {}
      },
      "cell_type": "code",
      "source": [
        "!tar -xvf EnglishHnd.tgz"
      ],
      "execution_count": 0,
      "outputs": []
    },
    {
      "metadata": {
        "id": "-jbhEOkx7wAj",
        "colab_type": "code",
        "colab": {
          "base_uri": "https://localhost:8080/",
          "height": 71
        },
        "outputId": "323c9b2d-6255-48ab-840b-b65de99cb77c"
      },
      "cell_type": "code",
      "source": [
        "rootDir = './English/Hnd/Img'\n",
        "n_images = 6420\n",
        "images = np.zeros((n_images,) + (20, 15))\n",
        "\n",
        "labels = []\n",
        "\n",
        "j = 0\n",
        "for dirName, subdirList, fileList in os.walk(rootDir):\n",
        "    i = 0\n",
        "    if 'Sample' in dirName:\n",
        "        label = int(dirName[-2:])\n",
        "    # if label < 11 or label > 36:\n",
        "    #     continue\n",
        "        if label > 36:\n",
        "            label -= 26\n",
        "    for fname in fileList:\n",
        "        if 'png' not in fname:\n",
        "            continue\n",
        "        full_path = os.path.join(dirName, fname)\n",
        "        images[j] = resize(imread(full_path, as_grey=True), (20, 15)) \n",
        "        labels.append(label)\n",
        "        j += 1\n",
        "        i += 1\n",
        "        # if i == 5:\n",
        "        #     break\n",
        "images = images[:len(labels)]"
      ],
      "execution_count": 20,
      "outputs": [
        {
          "output_type": "stream",
          "text": [
            "/usr/local/lib/python3.6/dist-packages/skimage/transform/_warps.py:84: UserWarning: The default mode, 'constant', will be changed to 'reflect' in skimage 0.15.\n",
            "  warn(\"The default mode, 'constant', will be changed to 'reflect' in \"\n"
          ],
          "name": "stderr"
        }
      ]
    },
    {
      "metadata": {
        "id": "grOuvkWwNozI",
        "colab_type": "code",
        "colab": {
          "base_uri": "https://localhost:8080/",
          "height": 51
        },
        "outputId": "3ab89df2-48dc-4ffc-bd09-900c5404b6fc"
      },
      "cell_type": "code",
      "source": [
        "print(len(labels))\n",
        "print(len(images))"
      ],
      "execution_count": 21,
      "outputs": [
        {
          "output_type": "stream",
          "text": [
            "3410\n",
            "3410\n"
          ],
          "name": "stdout"
        }
      ]
    },
    {
      "metadata": {
        "id": "aXhTdcouQC4E",
        "colab_type": "code",
        "colab": {}
      },
      "cell_type": "code",
      "source": [
        "k = sample(range(len(images)), len(images))\n",
        "im_shuf = images[k]\n",
        "labels_shuf = np.array(labels)[k]\n",
        "    \n",
        "ocr = {\n",
        "    'images': im_shuf,\n",
        "    'data': im_shuf.reshape((im_shuf.shape[0], -1)), # / 255.0\n",
        "    'target': labels_shuf\n",
        "}"
      ],
      "execution_count": 0,
      "outputs": []
    },
    {
      "metadata": {
        "id": "Cd4qnyuDNfVm",
        "colab_type": "code",
        "colab": {}
      },
      "cell_type": "code",
      "source": [
        "total = len(ocr['target'])\n",
        "population = range(total)\n",
        "k = int(np.floor(total * 0.1))\n",
        "test = sample(population, k)\n",
        "train = [i for i in population if i not in test]\n",
        "images_train = ocr['images'][train]\n",
        "data_train = ocr['data'][train]\n",
        "labels_train = ocr['target'][train]\n",
        "images_test = ocr['images'][test]\n",
        "data_test = ocr['data'][test]\n",
        "labels_test = ocr['target'][test]"
      ],
      "execution_count": 0,
      "outputs": []
    },
    {
      "metadata": {
        "id": "5CTNarV5PktU",
        "colab_type": "code",
        "colab": {}
      },
      "cell_type": "code",
      "source": [
        "model = LinearSVC()\n",
        "param_grid = {'C':  list(np.arange(0.1,1.5,0.1))}"
      ],
      "execution_count": 0,
      "outputs": []
    },
    {
      "metadata": {
        "id": "sP1KcVYPQIVY",
        "colab_type": "code",
        "colab": {
          "base_uri": "https://localhost:8080/",
          "height": 1734
        },
        "outputId": "41095b6f-c8f4-4f70-a833-286661f44ccd"
      },
      "cell_type": "code",
      "source": [
        "gs = GridSearchCV(model, param_grid, n_jobs=-1, cv=3, verbose=4)\n",
        "gs.fit(data_train, labels_train)\n",
        "pprint(sorted(gs.grid_scores_, key=lambda x: -x.mean_validation_score))"
      ],
      "execution_count": 10,
      "outputs": [
        {
          "output_type": "stream",
          "text": [
            "Fitting 3 folds for each of 14 candidates, totalling 42 fits\n",
            "[CV] C=0.1 ...........................................................\n",
            "[CV] C=0.1 ...........................................................\n",
            "[CV] .................................. C=0.1, score=0.245357 -  29.1s\n",
            "[CV] C=0.1 ...........................................................\n",
            "[CV] .................................. C=0.1, score=0.222222 -  29.4s\n",
            "[CV] C=0.2 ...........................................................\n",
            "[CV] .................................. C=0.1, score=0.241345 -  29.6s\n",
            "[CV] C=0.2 ...........................................................\n",
            "[CV] .................................. C=0.2, score=0.224155 -  32.3s\n",
            "[CV] C=0.2 ...........................................................\n",
            "[CV] .................................. C=0.2, score=0.239492 -  33.1s\n",
            "[CV] C=0.30000000000000004 ...........................................\n",
            "[CV] .................................. C=0.2, score=0.235410 -  32.9s\n",
            "[CV] C=0.30000000000000004 ...........................................\n",
            "[CV] .................. C=0.30000000000000004, score=0.217391 -  32.0s\n",
            "[CV] C=0.30000000000000004 ...........................................\n",
            "[CV] .................. C=0.30000000000000004, score=0.233627 -  33.1s\n",
            "[CV] C=0.4 ...........................................................\n",
            "[CV] .................. C=0.30000000000000004, score=0.231454 -  34.3s\n",
            "[CV] C=0.4 ...........................................................\n",
            "[CV] .................................. C=0.4, score=0.215459 -  33.9s\n",
            "[CV] C=0.4 ...........................................................\n",
            "[CV] .................................. C=0.4, score=0.229717 -  33.1s\n",
            "[CV] C=0.5 ...........................................................\n",
            "[CV] .................................. C=0.4, score=0.228487 -  33.5s\n",
            "[CV] C=0.5 ...........................................................\n",
            "[CV] .................................. C=0.5, score=0.213527 -  32.5s\n",
            "[CV] C=0.5 ...........................................................\n",
            "[CV] .................................. C=0.5, score=0.228739 -  33.4s\n",
            "[CV] C=0.6 ...........................................................\n",
            "[CV] .................................. C=0.5, score=0.207715 -  32.9s\n",
            "[CV] C=0.6 ...........................................................\n",
            "[CV] .................................. C=0.6, score=0.208696 -  32.9s\n",
            "[CV] C=0.6 ...........................................................\n",
            "[CV] .................................. C=0.6, score=0.213099 -  33.4s\n",
            "[CV] C=0.7000000000000001 ............................................\n",
            "[CV] .................................. C=0.6, score=0.220574 -  33.8s\n",
            "[CV] C=0.7000000000000001 ............................................\n",
            "[CV] ................... C=0.7000000000000001, score=0.220290 -  32.6s\n",
            "[CV] C=0.7000000000000001 ............................................\n",
            "[CV] ................... C=0.7000000000000001, score=0.211144 -  33.3s\n",
            "[CV] C=0.8 ...........................................................\n",
            "[CV] ................... C=0.7000000000000001, score=0.206726 -  33.4s\n",
            "[CV] C=0.8 ...........................................................\n"
          ],
          "name": "stdout"
        },
        {
          "output_type": "stream",
          "text": [
            "[Parallel(n_jobs=-1)]: Done  21 tasks      | elapsed:  5.9min\n"
          ],
          "name": "stderr"
        },
        {
          "output_type": "stream",
          "text": [
            "[CV] .................................. C=0.8, score=0.195169 -  33.1s\n",
            "[CV] C=0.8 ...........................................................\n",
            "[CV] .................................. C=0.8, score=0.214076 -  33.2s\n",
            "[CV] C=0.9 ...........................................................\n",
            "[CV] .................................. C=0.8, score=0.201780 -  33.5s\n",
            "[CV] C=0.9 ...........................................................\n",
            "[CV] .................................. C=0.9, score=0.203865 -  33.1s\n",
            "[CV] C=0.9 ...........................................................\n",
            "[CV] .................................. C=0.9, score=0.207234 -  33.6s\n",
            "[CV] C=1.0 ...........................................................\n",
            "[CV] .................................. C=0.9, score=0.207715 -  35.4s\n",
            "[CV] C=1.0 ...........................................................\n",
            "[CV] .................................. C=1.0, score=0.203865 -  35.2s\n",
            "[CV] C=1.0 ...........................................................\n",
            "[CV] .................................. C=1.0, score=0.200391 -  33.4s\n",
            "[CV] C=1.1 ...........................................................\n",
            "[CV] .................................. C=1.0, score=0.224530 -  34.0s\n",
            "[CV] C=1.1 ...........................................................\n",
            "[CV] .................................. C=1.1, score=0.186473 -  33.2s\n",
            "[CV] C=1.1 ...........................................................\n",
            "[CV] .................................. C=1.1, score=0.206256 -  34.1s\n",
            "[CV] C=1.2000000000000002 ............................................\n",
            "[CV] .................................. C=1.1, score=0.180020 -  34.0s\n",
            "[CV] C=1.2000000000000002 ............................................\n",
            "[CV] ................... C=1.2000000000000002, score=0.199034 -  33.7s\n",
            "[CV] C=1.2000000000000002 ............................................\n",
            "[CV] ................... C=1.2000000000000002, score=0.178886 -  33.7s\n",
            "[CV] C=1.3000000000000003 ............................................\n",
            "[CV] ................... C=1.2000000000000002, score=0.198813 -  34.1s\n",
            "[CV] C=1.3000000000000003 ............................................\n",
            "[CV] ................... C=1.3000000000000003, score=0.196135 -  33.5s\n",
            "[CV] C=1.3000000000000003 ............................................\n",
            "[CV] ................... C=1.3000000000000003, score=0.202346 -  33.8s\n",
            "[CV] C=1.4000000000000001 ............................................\n",
            "[CV] ................... C=1.3000000000000003, score=0.199802 -  34.1s\n",
            "[CV] C=1.4000000000000001 ............................................\n",
            "[CV] ................... C=1.4000000000000001, score=0.192271 -  33.7s\n",
            "[CV] C=1.4000000000000001 ............................................\n",
            "[CV] ................... C=1.4000000000000001, score=0.192571 -  34.3s\n",
            "[CV] ................... C=1.4000000000000001, score=0.202770 -  32.0s\n"
          ],
          "name": "stdout"
        },
        {
          "output_type": "stream",
          "text": [
            "[Parallel(n_jobs=-1)]: Done  42 out of  42 | elapsed: 11.7min finished\n"
          ],
          "name": "stderr"
        },
        {
          "output_type": "stream",
          "text": [
            "[mean: 0.23623, std: 0.01009, params: {'C': 0.1},\n",
            " mean: 0.23297, std: 0.00649, params: {'C': 0.2},\n",
            " mean: 0.22744, std: 0.00720, params: {'C': 0.30000000000000004},\n",
            " mean: 0.22450, std: 0.00645, params: {'C': 0.4},\n",
            " mean: 0.21668, std: 0.00886, params: {'C': 0.5},\n",
            " mean: 0.21408, std: 0.00490, params: {'C': 0.6},\n",
            " mean: 0.21277, std: 0.00565, params: {'C': 0.7000000000000001},\n",
            " mean: 0.20951, std: 0.01066, params: {'C': 1.0},\n",
            " mean: 0.20626, std: 0.00171, params: {'C': 0.9},\n",
            " mean: 0.20365, std: 0.00783, params: {'C': 0.8},\n",
            " mean: 0.19941, std: 0.00255, params: {'C': 1.3000000000000003},\n",
            " mean: 0.19583, std: 0.00488, params: {'C': 1.4000000000000001},\n",
            " mean: 0.19225, std: 0.00945, params: {'C': 1.2000000000000002},\n",
            " mean: 0.19094, std: 0.01116, params: {'C': 1.1}]\n"
          ],
          "name": "stdout"
        }
      ]
    },
    {
      "metadata": {
        "id": "MwbIZZ4hTbEE",
        "colab_type": "code",
        "colab": {
          "base_uri": "https://localhost:8080/",
          "height": 85
        },
        "outputId": "93910390-55b6-4d95-cd6c-9f2b63c6a7c8"
      },
      "cell_type": "code",
      "source": [
        "y_pred = gs.predict(data_test)\n",
        "print ('Test set shape: ', data_test.shape)\n",
        "print ('Target shape: ', labels_test.shape)\n",
        "print ('Accuracy on train set: ', accuracy_score(labels_train, gs.predict(data_train)))\n",
        "print ('Accuracy on test set: ', accuracy_score(labels_test, y_pred))"
      ],
      "execution_count": 11,
      "outputs": [
        {
          "output_type": "stream",
          "text": [
            "Test set shape:  (341, 400)\n",
            "Target shape:  (341,)\n",
            "Accuracy on train set:  0.5529488432714239\n",
            "Accuracy on test set:  0.28152492668621704\n"
          ],
          "name": "stdout"
        }
      ]
    },
    {
      "metadata": {
        "id": "eT9ad8Hwo9D0",
        "colab_type": "code",
        "colab": {
          "base_uri": "https://localhost:8080/",
          "height": 71
        },
        "outputId": "47b4ceff-5e06-4abc-fa64-b578c8b19240"
      },
      "cell_type": "code",
      "source": [
        "x_train, x_test, y_train, y_test = train_test_split(im_shuf, labels_shuf, random_state=2, train_size=0.8)"
      ],
      "execution_count": 32,
      "outputs": [
        {
          "output_type": "stream",
          "text": [
            "/usr/local/lib/python3.6/dist-packages/sklearn/model_selection/_split.py:2026: FutureWarning: From version 0.21, test_size will always complement train_size unless both are specified.\n",
            "  FutureWarning)\n"
          ],
          "name": "stderr"
        }
      ]
    },
    {
      "metadata": {
        "id": "XDYNeH78h3fS",
        "colab_type": "code",
        "colab": {
          "base_uri": "https://localhost:8080/",
          "height": 1428
        },
        "outputId": "a88b54cd-2b7d-4661-f9d5-46577861c507"
      },
      "cell_type": "code",
      "source": [
        "num_classes = 37\n",
        "batch_size = 128\n",
        "\n",
        "X_train = x_train.reshape(x_train.shape[0], 20, 15 , 1).astype('float32')\n",
        "X_test = x_test.reshape(x_test.shape[0], 20, 15 , 1).astype('float32')\n",
        "y_train = to_categorical(y_train)\n",
        "y_test = to_categorical(y_test)\n",
        "\n",
        "model = Sequential()\n",
        "\n",
        "model.add(Conv2D(32, kernel_size=(3, 3), activation='relu', input_shape=(20, 15, 1)))\n",
        "\n",
        "model.add(Conv2D(64, (3, 3), activation='relu'))\n",
        "\n",
        "model.add(Conv2D(128, (3, 3), activation='relu'))\n",
        "model.add(MaxPooling2D(pool_size=(2, 2)))\n",
        "\n",
        "model.add(Dropout(0.25))\n",
        "model.add(Flatten())\n",
        "model.summary()\n",
        "model.add(Dense(128, activation='relu'))\n",
        "model.add(Dropout(0.5))\n",
        "\n",
        "model.add(Dense(num_classes, activation='softmax'))\n",
        "\n",
        "model.compile(loss=keras.losses.categorical_crossentropy,\n",
        "              optimizer=keras.optimizers.Adadelta(),\n",
        "              metrics=['accuracy'])\n",
        "model.fit(X_train, y_train, batch_size=batch_size,\n",
        "                        nb_epoch=40,\n",
        "                        verbose=1)"
      ],
      "execution_count": 33,
      "outputs": [
        {
          "output_type": "stream",
          "text": [
            "/usr/local/lib/python3.6/dist-packages/keras/models.py:981: UserWarning: The `nb_epoch` argument in `fit` has been renamed `epochs`.\n",
            "  warnings.warn('The `nb_epoch` argument in `fit` '\n"
          ],
          "name": "stderr"
        },
        {
          "output_type": "stream",
          "text": [
            "Epoch 1/40\n",
            "2728/2728 [==============================] - 7s 2ms/step - loss: 3.5944 - acc: 0.0323\n",
            "Epoch 2/40\n",
            "2728/2728 [==============================] - 6s 2ms/step - loss: 3.5640 - acc: 0.0418\n",
            "Epoch 3/40\n",
            "2728/2728 [==============================] - 6s 2ms/step - loss: 3.4448 - acc: 0.0729\n",
            "Epoch 4/40\n",
            "2728/2728 [==============================] - 6s 2ms/step - loss: 3.2575 - acc: 0.1202\n",
            "Epoch 5/40\n",
            "2728/2728 [==============================] - 6s 2ms/step - loss: 3.0238 - acc: 0.1657\n",
            "Epoch 6/40\n",
            "2728/2728 [==============================] - 6s 2ms/step - loss: 2.7862 - acc: 0.2229\n",
            "Epoch 7/40\n",
            "2728/2728 [==============================] - 6s 2ms/step - loss: 2.5946 - acc: 0.2573\n",
            "Epoch 8/40\n",
            "2728/2728 [==============================] - 6s 2ms/step - loss: 2.3647 - acc: 0.3130\n",
            "Epoch 9/40\n",
            "2728/2728 [==============================] - 6s 2ms/step - loss: 2.1085 - acc: 0.3897\n",
            "Epoch 10/40\n",
            "2728/2728 [==============================] - 6s 2ms/step - loss: 2.0285 - acc: 0.3977\n",
            "Epoch 11/40\n",
            "2728/2728 [==============================] - 6s 2ms/step - loss: 1.8200 - acc: 0.4688\n",
            "Epoch 12/40\n",
            "2728/2728 [==============================] - 6s 2ms/step - loss: 1.6713 - acc: 0.5084\n",
            "Epoch 13/40\n",
            "2728/2728 [==============================] - 6s 2ms/step - loss: 1.5431 - acc: 0.5275\n",
            "Epoch 14/40\n",
            "2728/2728 [==============================] - 6s 2ms/step - loss: 1.4719 - acc: 0.5583\n",
            "Epoch 15/40\n",
            "2728/2728 [==============================] - 6s 2ms/step - loss: 1.3882 - acc: 0.5751\n",
            "Epoch 16/40\n",
            "2728/2728 [==============================] - 6s 2ms/step - loss: 1.2961 - acc: 0.6070\n",
            "Epoch 17/40\n",
            "2728/2728 [==============================] - 6s 2ms/step - loss: 1.2051 - acc: 0.6169\n",
            "Epoch 18/40\n",
            "2728/2728 [==============================] - 6s 2ms/step - loss: 1.1202 - acc: 0.6378\n",
            "Epoch 19/40\n",
            "2728/2728 [==============================] - 6s 2ms/step - loss: 1.0634 - acc: 0.6679\n",
            "Epoch 20/40\n",
            "2728/2728 [==============================] - 6s 2ms/step - loss: 1.0086 - acc: 0.6793\n",
            "Epoch 21/40\n",
            "2728/2728 [==============================] - 6s 2ms/step - loss: 0.9500 - acc: 0.6939\n",
            "Epoch 22/40\n",
            "2728/2728 [==============================] - 6s 2ms/step - loss: 0.8635 - acc: 0.7236\n",
            "Epoch 23/40\n",
            "2728/2728 [==============================] - 6s 2ms/step - loss: 0.8220 - acc: 0.7405\n",
            "Epoch 24/40\n",
            "2728/2728 [==============================] - 6s 2ms/step - loss: 0.7692 - acc: 0.7526\n",
            "Epoch 25/40\n",
            "2728/2728 [==============================] - 6s 2ms/step - loss: 0.8019 - acc: 0.7379\n",
            "Epoch 26/40\n",
            "2728/2728 [==============================] - 6s 2ms/step - loss: 0.7423 - acc: 0.7632\n",
            "Epoch 27/40\n",
            "2728/2728 [==============================] - 6s 2ms/step - loss: 0.6824 - acc: 0.7760\n",
            "Epoch 28/40\n",
            "2728/2728 [==============================] - 6s 2ms/step - loss: 0.6847 - acc: 0.7742\n",
            "Epoch 29/40\n",
            "2728/2728 [==============================] - 6s 2ms/step - loss: 0.6538 - acc: 0.7768\n",
            "Epoch 30/40\n",
            "2728/2728 [==============================] - 6s 2ms/step - loss: 0.6119 - acc: 0.8021\n",
            "Epoch 31/40\n",
            "2728/2728 [==============================] - 7s 2ms/step - loss: 0.6014 - acc: 0.8057\n",
            "Epoch 32/40\n",
            "2728/2728 [==============================] - 7s 2ms/step - loss: 0.5590 - acc: 0.8160\n",
            "Epoch 33/40\n",
            "2728/2728 [==============================] - 7s 2ms/step - loss: 0.5688 - acc: 0.8105\n",
            "Epoch 34/40\n",
            "2728/2728 [==============================] - 6s 2ms/step - loss: 0.5315 - acc: 0.8226\n",
            "Epoch 35/40\n",
            "2728/2728 [==============================] - 6s 2ms/step - loss: 0.4842 - acc: 0.8446\n",
            "Epoch 36/40\n",
            "2728/2728 [==============================] - 6s 2ms/step - loss: 0.4731 - acc: 0.8369\n",
            "Epoch 37/40\n",
            "2728/2728 [==============================] - 6s 2ms/step - loss: 0.4936 - acc: 0.8244\n",
            "Epoch 38/40\n",
            "2728/2728 [==============================] - 6s 2ms/step - loss: 0.4623 - acc: 0.8383\n",
            "Epoch 39/40\n",
            "2728/2728 [==============================] - 6s 2ms/step - loss: 0.3996 - acc: 0.8647\n",
            "Epoch 40/40\n",
            "2728/2728 [==============================] - 6s 2ms/step - loss: 0.4291 - acc: 0.8559\n"
          ],
          "name": "stdout"
        },
        {
          "output_type": "execute_result",
          "data": {
            "text/plain": [
              "<keras.callbacks.History at 0x7f1ac9a3a208>"
            ]
          },
          "metadata": {
            "tags": []
          },
          "execution_count": 33
        }
      ]
    },
    {
      "metadata": {
        "id": "R6nGdFRySrEN",
        "colab_type": "code",
        "colab": {
          "base_uri": "https://localhost:8080/",
          "height": 34
        },
        "outputId": "151ccfb5-f720-4ab3-ccae-d7a12c713bf5"
      },
      "cell_type": "code",
      "source": [
        "scores = model.evaluate(X_test, y_test, verbose = 10 )\n",
        "print ( scores )"
      ],
      "execution_count": 34,
      "outputs": [
        {
          "output_type": "stream",
          "text": [
            "[1.4876500301696687, 0.6217008797653959]\n"
          ],
          "name": "stdout"
        }
      ]
    },
    {
      "metadata": {
        "id": "doaZfOi1xklu",
        "colab_type": "code",
        "colab": {}
      },
      "cell_type": "code",
      "source": [
        "ynew = model.predict_classes(X_test)"
      ],
      "execution_count": 0,
      "outputs": []
    },
    {
      "metadata": {
        "id": "oDVNo0Yrxrl7",
        "colab_type": "code",
        "colab": {
          "base_uri": "https://localhost:8080/",
          "height": 51
        },
        "outputId": "e56791a5-d6a6-4821-d331-339958c4ecce"
      },
      "cell_type": "code",
      "source": [
        "y_test[:10], ynew[:10]"
      ],
      "execution_count": 39,
      "outputs": [
        {
          "output_type": "execute_result",
          "data": {
            "text/plain": [
              "(array([36, 19,  4, 32,  2, 24, 20, 18, 26, 17]),\n",
              " array([ 4, 19, 29, 32, 22, 34, 20, 18, 26, 17]))"
            ]
          },
          "metadata": {
            "tags": []
          },
          "execution_count": 39
        }
      ]
    }
  ]
}